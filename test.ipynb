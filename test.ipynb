{
 "cells": [
  {
   "cell_type": "code",
   "execution_count": 1,
   "metadata": {},
   "outputs": [
    {
     "name": "stdout",
     "output_type": "stream",
     "text": [
      "Requirement already satisfied: numpy in ./venv/lib/python3.13/site-packages (2.2.3)\n"
     ]
    }
   ],
   "source": [
    "!pip install numpy"
   ]
  },
  {
   "cell_type": "code",
   "execution_count": 2,
   "metadata": {},
   "outputs": [],
   "source": [
    "import numpy as np"
   ]
  },
  {
   "cell_type": "markdown",
   "metadata": {},
   "source": [
    "### Conversion of Hex to Ascii"
   ]
  },
  {
   "cell_type": "code",
   "execution_count": 3,
   "metadata": {},
   "outputs": [],
   "source": [
    "def hex_to_ascii(hex_string):\n",
    "    \"\"\"\n",
    "    Convert a hexadecimal string to an ASCII string character by character.\n",
    "    \n",
    "    :param hex_string: A string containing hexadecimal values\n",
    "    :return: The corresponding ASCII string\n",
    "    \"\"\"\n",
    "    if len(hex_string) % 2 != 0:\n",
    "        return \"Invalid hex input: Length should be even\"\n",
    "\n",
    "    try:\n",
    "        ascii_string = \"\"\n",
    "        for i in range(0, len(hex_string), 2):\n",
    "            hex_pair = hex_string[i:i+2]  # Take two hex characters\n",
    "            ascii_char = chr(int(hex_pair, 16))  # Convert to integer, then to ASCII char\n",
    "            ascii_string += ascii_char  # Append to result\n",
    "        \n",
    "        return ascii_string\n",
    "    except ValueError:\n",
    "        return \"Invalid hex input: Contains non-hex characters\"\n"
   ]
  },
  {
   "cell_type": "code",
   "execution_count": 4,
   "metadata": {},
   "outputs": [
    {
     "name": "stdout",
     "output_type": "stream",
     "text": [
      "bijay sapkota   \n"
     ]
    }
   ],
   "source": [
    "# Example usage\n",
    "hex_string = \"62696a6179207361706b6f7461202020\"  # \"Hello World\"\n",
    "print(hex_to_ascii(hex_string))\n"
   ]
  },
  {
   "cell_type": "markdown",
   "metadata": {},
   "source": [
    "### Conversion of Ascii String to Hex string"
   ]
  },
  {
   "cell_type": "code",
   "execution_count": 5,
   "metadata": {},
   "outputs": [],
   "source": [
    "def ascii_to_hex(ascii_string):\n",
    "    # Convert each character to its hexadecimal representation\n",
    "    hex_string = ''.join(format(ord(c), '02x') for c in ascii_string)\n",
    "    return hex_string"
   ]
  },
  {
   "cell_type": "code",
   "execution_count": 6,
   "metadata": {},
   "outputs": [
    {
     "name": "stdout",
     "output_type": "stream",
     "text": [
      "Hexadecimal representation: 6e6570616c\n"
     ]
    }
   ],
   "source": [
    "# Example usage\n",
    "ascii_string = input(\"Enter an ASCII string: \")\n",
    "hex_string = ascii_to_hex(ascii_string)\n",
    "print(f\"Hexadecimal representation: {hex_string}\")\n"
   ]
  },
  {
   "cell_type": "markdown",
   "metadata": {},
   "source": [
    "## Break Ascii String in 16 byte chunks"
   ]
  },
  {
   "cell_type": "code",
   "execution_count": 7,
   "metadata": {},
   "outputs": [],
   "source": [
    "def break_string_into_chunks(ascii_string, chunk_size=16):\n",
    "    # Pad the string with spaces if its length is not a perfect multiple of chunk_size\n",
    "    if len(ascii_string) % chunk_size != 0:\n",
    "        ascii_string = ascii_string.ljust((len(ascii_string) // chunk_size + 1) * chunk_size)\n",
    "\n",
    "    # Break the string into chunks of the specified size\n",
    "    chunks = [ascii_string[i:i+chunk_size] for i in range(0, len(ascii_string), chunk_size)]\n",
    "    \n",
    "    return chunks\n",
    "\n"
   ]
  },
  {
   "cell_type": "code",
   "execution_count": 8,
   "metadata": {},
   "outputs": [
    {
     "name": "stdout",
     "output_type": "stream",
     "text": [
      "Chunks:\n",
      "'bepal           '\n"
     ]
    }
   ],
   "source": [
    "# Example usage\n",
    "ascii_string = input(\"Enter an ASCII string: \")\n",
    "chunks = break_string_into_chunks(ascii_string)\n",
    "\n",
    "# Display the chunks\n",
    "print(\"Chunks:\")\n",
    "for chunk in chunks:\n",
    "    print(f\"'{chunk}'\")\n"
   ]
  },
  {
   "cell_type": "markdown",
   "metadata": {},
   "source": [
    "### Conversion from hexadecimal string to decimal square 2 dimenstional array"
   ]
  },
  {
   "cell_type": "code",
   "execution_count": 9,
   "metadata": {},
   "outputs": [],
   "source": [
    "def hex_to_decimal_array(hex_string):\n",
    "    # Split the hex string into pairs of two characters\n",
    "    hex_pairs = [hex_string[i:i+2] for i in range(0, len(hex_string), 2)]\n",
    "    # Convert each hex pair to a decimal number\n",
    "    decimal_array = [int(pair, 16) for pair in hex_pairs]\n",
    "    return decimal_array"
   ]
  },
  {
   "cell_type": "markdown",
   "metadata": {},
   "source": [
    "### Conversion from square 2 dimensional array to flat hexadecimal string"
   ]
  },
  {
   "cell_type": "code",
   "execution_count": 10,
   "metadata": {},
   "outputs": [],
   "source": [
    "def decimal_array_to_hex(decimal_array):\n",
    "    # Flatten the 2D array to a 1D array\n",
    "    flat_array = np.array(decimal_array).flatten()\n",
    "    # Convert each decimal number to a 2-character hexadecimal string\n",
    "    hex_array = [format(decimal, '02x') for decimal in flat_array]\n",
    "    # Join all hexadecimal strings into a single string\n",
    "    hex_string = ''.join(hex_array)\n",
    "    return hex_string"
   ]
  },
  {
   "cell_type": "markdown",
   "metadata": {},
   "source": [
    "###### checkpoints"
   ]
  },
  {
   "cell_type": "code",
   "execution_count": 11,
   "metadata": {},
   "outputs": [
    {
     "data": {
      "text/plain": [
       "array([[ 18,  52,  86, 120],\n",
       "       [144,  18,  52,  86],\n",
       "       [120, 144,  18,  52],\n",
       "       [ 86, 120, 144,  18]])"
      ]
     },
     "execution_count": 11,
     "metadata": {},
     "output_type": "execute_result"
    }
   ],
   "source": [
    "hex_array=hex_to_decimal_array(\"12345678901234567890123456789012\")\n",
    "hex_array=np.array(hex_array).reshape(4,4)\n",
    "hex_array"
   ]
  },
  {
   "cell_type": "code",
   "execution_count": 12,
   "metadata": {},
   "outputs": [
    {
     "data": {
      "text/plain": [
       "(4, 4)"
      ]
     },
     "execution_count": 12,
     "metadata": {},
     "output_type": "execute_result"
    }
   ],
   "source": [
    "hexadecimal_basic_array=np.array([i for i in range(16)]).reshape(4,4)\n",
    "hexadecimal_basic_array.shape"
   ]
  },
  {
   "cell_type": "code",
   "execution_count": 13,
   "metadata": {},
   "outputs": [
    {
     "data": {
      "text/plain": [
       "'12345678901234567890123456789012'"
      ]
     },
     "execution_count": 13,
     "metadata": {},
     "output_type": "execute_result"
    }
   ],
   "source": [
    "decimal_array_to_hex(hex_array)"
   ]
  },
  {
   "cell_type": "markdown",
   "metadata": {},
   "source": [
    "#### Define a predefined array for Mix Column Operation during each iteration of encryption in AES encryption process"
   ]
  },
  {
   "cell_type": "code",
   "execution_count": 14,
   "metadata": {},
   "outputs": [
    {
     "data": {
      "text/plain": [
       "(4, 4)"
      ]
     },
     "execution_count": 14,
     "metadata": {},
     "output_type": "execute_result"
    }
   ],
   "source": [
    "predefined_array = np.array([[2,3,1,1],\n",
    "                              [1,2,3,1],\n",
    "                              [1,1,2,3],\n",
    "                              [3,1,1,2]])\n",
    "predefined_array.shape"
   ]
  },
  {
   "cell_type": "markdown",
   "metadata": {},
   "source": [
    "#### Define byte Substitute matrix for lookup and substitution"
   ]
  },
  {
   "cell_type": "code",
   "execution_count": 15,
   "metadata": {},
   "outputs": [],
   "source": [
    "s_box = [\n",
    "    0x63, 0x7C, 0x77, 0x7B, 0xF2, 0x6B, 0x6F, 0xC5, 0x30, 0x01, 0x67, 0x2B, 0xFE, 0xD7, 0xAB, 0x76,\n",
    "    0xCA, 0x82, 0xC9, 0x7D, 0xFA, 0x59, 0x47, 0xF0, 0xAD, 0xD4, 0xA2, 0xAF, 0x9C, 0xA4, 0x72, 0xC0,\n",
    "    0xB7, 0xFD, 0x93, 0x26, 0x36, 0x3F, 0xF7, 0xCC, 0x34, 0xA5, 0xE5, 0xF1, 0x71, 0xD8, 0x31, 0x15,\n",
    "    0x04, 0xC7, 0x23, 0xC3, 0x18, 0x96, 0x05, 0x9A, 0x07, 0x12, 0x80, 0xE2, 0xEB, 0x27, 0xB2, 0x75,\n",
    "    0x09, 0x83, 0x2C, 0x1A, 0x1B, 0x6E, 0x5A, 0xA0, 0x52, 0x3B, 0xD6, 0xB3, 0x29, 0xE3, 0x2F, 0x84,\n",
    "    0x53, 0xD1, 0x00, 0xED, 0x20, 0xFC, 0xB1, 0x5B, 0x6A, 0xCB, 0xBE, 0x39, 0x4A, 0x4C, 0x58, 0xCF,\n",
    "    0xD0, 0xEF, 0xAA, 0xFB, 0x43, 0x4D, 0x33, 0x85, 0x45, 0xF9, 0x02, 0x7F, 0x50, 0x3C, 0x9F, 0xA8,\n",
    "    0x51, 0xA3, 0x40, 0x8F, 0x92, 0x9D, 0x38, 0xF5, 0xBC, 0xB6, 0xDA, 0x21, 0x10, 0xFF, 0xF3, 0xD2,\n",
    "    0xCD, 0x0C, 0x13, 0xEC, 0x5F, 0x97, 0x44, 0x17, 0xC4, 0xA7, 0x7E, 0x3D, 0x64, 0x5D, 0x19, 0x73,\n",
    "    0x60, 0x81, 0x4F, 0xDC, 0x22, 0x2A, 0x90, 0x88, 0x46, 0xEE, 0xB8, 0x14, 0xDE, 0x5E, 0x0B, 0xDB,\n",
    "    0xE0, 0x32, 0x3A, 0x0A, 0x49, 0x06, 0x24, 0x5C, 0xC2, 0xD3, 0xAC, 0x62, 0x91, 0x95, 0xE4, 0x79,\n",
    "    0xE7, 0xC8, 0x37, 0x6D, 0x8D, 0xD5, 0x4E, 0xA9, 0x6C, 0x56, 0xF4, 0xEA, 0x65, 0x7A, 0xAE, 0x08,\n",
    "    0xBA, 0x78, 0x25, 0x2E, 0x1C, 0xA6, 0xB4, 0xC6, 0xE8, 0xDD, 0x74, 0x1F, 0x4B, 0xBD, 0x8B, 0x8A,\n",
    "    0x70, 0x3E, 0xB5, 0x66, 0x48, 0x03, 0xF6, 0x0E, 0x61, 0x35, 0x57, 0xB9, 0x86, 0xC1, 0x1D, 0x9E,\n",
    "    0xE1, 0xF8, 0x98, 0x11, 0x69, 0xD9, 0x8E, 0x94, 0x9B, 0x1E, 0x87, 0xE9, 0xCE, 0x55, 0x28, 0xDF,\n",
    "    0x8C, 0xA1, 0x89, 0x0D, 0xBF, 0xE6, 0x42, 0x68, 0x41, 0x99, 0x2D, 0x0F, 0xB0, 0x54, 0xBB, 0x16\n",
    "]\n"
   ]
  },
  {
   "cell_type": "code",
   "execution_count": 16,
   "metadata": {},
   "outputs": [
    {
     "data": {
      "text/plain": [
       "(16, 16)"
      ]
     },
     "execution_count": 16,
     "metadata": {},
     "output_type": "execute_result"
    }
   ],
   "source": [
    "s_box_2d = np.array(s_box).reshape(16, 16)\n",
    "s_box_2d.shape"
   ]
  },
  {
   "cell_type": "markdown",
   "metadata": {},
   "source": [
    "### Substitution operation based on Rijndael S-Box Mapping"
   ]
  },
  {
   "cell_type": "code",
   "execution_count": 17,
   "metadata": {},
   "outputs": [],
   "source": [
    "def sub_bytes(state):\n",
    "    for i in range(4):\n",
    "        for j in range(4):\n",
    "            row = state[i][j] // 16\n",
    "            col = state[i][j] % 16\n",
    "            state[i][j] = s_box_2d[row][col]\n",
    "    return state"
   ]
  },
  {
   "cell_type": "markdown",
   "metadata": {},
   "source": [
    "###### Checkpoint"
   ]
  },
  {
   "cell_type": "markdown",
   "metadata": {},
   "source": [
    "### Shift Rows"
   ]
  },
  {
   "cell_type": "code",
   "execution_count": 18,
   "metadata": {},
   "outputs": [],
   "source": [
    "def shift_rows(state):\n",
    "    for i in range(4):\n",
    "        state[i] = np.roll(state[i], -i)\n",
    "    return state"
   ]
  },
  {
   "cell_type": "markdown",
   "metadata": {},
   "source": [
    "### Mix Columns"
   ]
  },
  {
   "cell_type": "markdown",
   "metadata": {},
   "source": [
    "### AES Mix Column Operations"
   ]
  },
  {
   "cell_type": "code",
   "execution_count": 19,
   "metadata": {},
   "outputs": [],
   "source": [
    "def gf_mult(a, b):\n",
    "    \"\"\"Multiply two numbers in GF(2^8) using the AES irreducible polynomial.\"\"\"\n",
    "    result = 0\n",
    "    while b > 0:\n",
    "        if b & 1:\n",
    "            result ^= a\n",
    "        a <<= 1\n",
    "        if a & 0x100:\n",
    "            a ^= 0x11b  # AES irreducible polynomial (x^8 + x^4 + x^3 + x + 1)\n",
    "        b >>= 1\n",
    "    return result\n",
    "\n",
    "def mix_column(col):\n",
    "    \"\"\"Apply the MixColumns transformation on a single column.\"\"\"\n",
    "    # AES MixColumns matrix\n",
    "    mix_matrix = [\n",
    "        [0x02, 0x03, 0x01, 0x01],\n",
    "        [0x01, 0x02, 0x03, 0x01],\n",
    "        [0x01, 0x01, 0x02, 0x03],\n",
    "        [0x03, 0x01, 0x01, 0x02]\n",
    "    ]\n",
    "    \n",
    "    # To hold the result of the mix\n",
    "    result = [0] * 4\n",
    "    \n",
    "    # Matrix multiplication in GF(2^8)\n",
    "    for i in range(4):\n",
    "        result[i] = 0\n",
    "        for j in range(4):\n",
    "            result[i] ^= gf_mult(mix_matrix[i][j], col[j])\n",
    "    \n",
    "    return result\n",
    "\n",
    "def mix_columns(state):\n",
    "    \"\"\"Apply the MixColumns operation to a 4x4 state matrix in decimal.\"\"\"\n",
    "    mixed_state = []\n",
    "    \n",
    "    # For each column, apply the MixColumns transformation\n",
    "    for col in range(4):\n",
    "        column = [state[row][col] for row in range(4)]  # Extract the column\n",
    "        mixed_column = mix_column(column)  # Mix the column\n",
    "        mixed_state.append(mixed_column)  # Store the mixed column\n",
    "    \n",
    "    # Return the 4x4 mixed state\n",
    "    return [[mixed_state[row][col] for row in range(4)] for col in range(4)]\n"
   ]
  },
  {
   "cell_type": "markdown",
   "metadata": {},
   "source": [
    "### ADD ( bit wise ( each byte) X-OR)"
   ]
  },
  {
   "cell_type": "code",
   "execution_count": 20,
   "metadata": {},
   "outputs": [],
   "source": [
    "def AddRoundKey(state, round_key):\n",
    "    return state ^ round_key"
   ]
  },
  {
   "cell_type": "markdown",
   "metadata": {},
   "source": [
    "### Single Iteration cycle for AES round operation"
   ]
  },
  {
   "cell_type": "code",
   "execution_count": 21,
   "metadata": {},
   "outputs": [],
   "source": [
    "def encryption_round(state, round_key):\n",
    "    state = sub_bytes(state)\n",
    "    state = shift_rows(state)\n",
    "    state = mix_columns(state)\n",
    "    state = AddRoundKey(state, round_key)\n",
    "    return state"
   ]
  },
  {
   "cell_type": "markdown",
   "metadata": {},
   "source": [
    "### Last Round without Mixing Columns"
   ]
  },
  {
   "cell_type": "code",
   "execution_count": 22,
   "metadata": {},
   "outputs": [],
   "source": [
    "def last_round(state, round_key):\n",
    "    state = sub_bytes(state)\n",
    "    state = shift_rows(state)\n",
    "    state = AddRoundKey(state, round_key)\n",
    "    return state"
   ]
  },
  {
   "cell_type": "code",
   "execution_count": 23,
   "metadata": {},
   "outputs": [],
   "source": [
    "def AES_Encryption(Ascii_String, key):\n",
    "    hex_string = ascii_to_hex(Ascii_String)\n",
    "    hex_array=hex_to_decimal_array(hex_string)\n",
    "    hex_array=np.array(hex_array).reshape(4,4)\n",
    "    state = hex_array\n",
    "    round_key = key\n",
    "    for i in range(9):\n",
    "        state = encryption_round(state, round_key)\n",
    "    state1 = last_round(state, round_key)\n",
    "    #print(\"Encrypted Message: \", state1.flatten())\n",
    "    return decimal_array_to_hex(state1)"
   ]
  },
  {
   "cell_type": "markdown",
   "metadata": {},
   "source": [
    "### Inverse AES implementation\n"
   ]
  },
  {
   "cell_type": "code",
   "execution_count": 24,
   "metadata": {},
   "outputs": [],
   "source": [
    "def inv_sub_bytes(state):\n",
    "    inv_s_box = [s_box.index(x) for x in range(256)]\n",
    "    inv_s_box_2d = np.array(inv_s_box).reshape(16, 16)\n",
    "    for i in range(4):\n",
    "        for j in range(4):\n",
    "            row = state[i][j] // 16\n",
    "            col = state[i][j] % 16\n",
    "            state[i][j] = inv_s_box_2d[row][col]\n",
    "    return state\n",
    "\n",
    "def inv_shift_rows(state):\n",
    "    for i in range(4):\n",
    "        state[i] = np.roll(state[i], i)\n",
    "    return state\n",
    "\n",
    "def inverse_mix_column(col):\n",
    "    \"\"\"Apply the Inverse MixColumns transformation on a single column.\"\"\"\n",
    "    # AES Inverse MixColumns matrix\n",
    "    inverse_mix_matrix = [\n",
    "        [0x0E, 0x0B, 0x0D, 0x09],\n",
    "        [0x09, 0x0E, 0x0B, 0x0D],\n",
    "        [0x0D, 0x09, 0x0E, 0x0B],\n",
    "        [0x0B, 0x0D, 0x09, 0x0E]\n",
    "    ]\n",
    "    \n",
    "    # To hold the result of the mix\n",
    "    result = [0] * 4\n",
    "    \n",
    "    # Matrix multiplication in GF(2^8)\n",
    "    for i in range(4):\n",
    "        result[i] = 0\n",
    "        for j in range(4):\n",
    "            result[i] ^= gf_mult(inverse_mix_matrix[i][j], col[j])\n",
    "    \n",
    "    return result\n",
    "\n",
    "def aes_inverse_mix_columns(state):\n",
    "    \"\"\"Apply the Inverse MixColumns operation to a 4x4 state matrix in decimal.\"\"\"\n",
    "    mixed_state = []\n",
    "    \n",
    "    # For each column, apply the Inverse MixColumns transformation\n",
    "    for col in range(4):\n",
    "        column = [state[row][col] for row in range(4)]  # Extract the column\n",
    "        mixed_column = inverse_mix_column(column)  # Apply inverse mix\n",
    "        mixed_state.append(mixed_column)  # Store the mixed column\n",
    "    \n",
    "    # Return the 4x4 mixed state\n",
    "    return [[mixed_state[row][col] for row in range(4)] for col in range(4)]\n",
    "\n",
    "def inv_add_round_key(state, round_key):\n",
    "    return state ^ round_key\n",
    "\n",
    "def decryption_round(state, round_key):\n",
    "    state = inv_add_round_key(state, round_key)\n",
    "    state = aes_inverse_mix_columns(state)\n",
    "    state = inv_shift_rows(state)\n",
    "    state = inv_sub_bytes(state)\n",
    "    return state\n",
    "\n",
    "def last_decryption_round(state, round_key):\n",
    "    state = inv_add_round_key(state, round_key)\n",
    "    state = inv_shift_rows(state)\n",
    "    state = inv_sub_bytes(state)\n",
    "    return state\n",
    "\n",
    "def AES_Decryption(cipher_array, key):\n",
    "    state = cipher_array\n",
    "    round_key = key\n",
    "    state = last_decryption_round(state, round_key)\n",
    "    for i in range(9):\n",
    "        state = decryption_round(state, round_key)\n",
    "    return decimal_array_to_hex(state)"
   ]
  },
  {
   "cell_type": "code",
   "execution_count": 25,
   "metadata": {},
   "outputs": [],
   "source": [
    "\n",
    "def Encrypt(Ascii_String):\n",
    "    Cipher = \"\"\n",
    "    chunks = break_string_into_chunks(Ascii_String)\n",
    "    for chunk in chunks:\n",
    "        cipher_text = AES_Encryption(chunk, np.array(hex_to_decimal_array(\"0123456789abcdef0123456789abcdef\")).reshape(4,4))\n",
    "        Cipher = Cipher.join(cipher_text)\n",
    "    return Cipher"
   ]
  },
  {
   "cell_type": "code",
   "execution_count": 26,
   "metadata": {},
   "outputs": [
    {
     "data": {
      "text/plain": [
       "'22d24ce216dda70e30a7ddfd22060054'"
      ]
     },
     "execution_count": 26,
     "metadata": {},
     "output_type": "execute_result"
    }
   ],
   "source": [
    "cipher = Encrypt(\"bijay sapkota \")\n",
    "cipher"
   ]
  },
  {
   "cell_type": "code",
   "execution_count": 32,
   "metadata": {},
   "outputs": [],
   "source": [
    "def Decrypt(Cipher):\n",
    "    Plain = \"\"\n",
    "    chunks = break_string_into_chunks(Cipher,32)\n",
    "    for chunk in chunks:\n",
    "        hex_array=hex_to_decimal_array(chunk)\n",
    "        hex_array=np.array(hex_array).reshape(4,4)\n",
    "        plain_text = AES_Decryption(hex_array, np.array(hex_to_decimal_array(\"0123456789abcdef0123456789abcdef\")).reshape(4,4))\n",
    "        Plain = Plain.join(plain_text)\n",
    "    return hex_to_ascii(Plain)\n",
    "    # return Plain"
   ]
  },
  {
   "cell_type": "code",
   "execution_count": 33,
   "metadata": {},
   "outputs": [
    {
     "data": {
      "text/plain": [
       "'bijay sapkota   '"
      ]
     },
     "execution_count": 33,
     "metadata": {},
     "output_type": "execute_result"
    }
   ],
   "source": [
    "Decrypt(cipher)\n"
   ]
  }
 ],
 "metadata": {
  "kernelspec": {
   "display_name": "venv",
   "language": "python",
   "name": "python3"
  },
  "language_info": {
   "codemirror_mode": {
    "name": "ipython",
    "version": 3
   },
   "file_extension": ".py",
   "mimetype": "text/x-python",
   "name": "python",
   "nbconvert_exporter": "python",
   "pygments_lexer": "ipython3",
   "version": "3.13.1"
  }
 },
 "nbformat": 4,
 "nbformat_minor": 2
}
